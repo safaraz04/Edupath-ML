{
 "cells": [
  {
   "cell_type": "code",
   "execution_count": 1,
   "metadata": {
    "id": "-jL71BTF-aIp"
   },
   "outputs": [],
   "source": [
    "import pandas as pd\n",
    "import numpy as np\n",
    "from sklearn.model_selection import train_test_split\n",
    "from sklearn.feature_extraction.text import TfidfVectorizer\n",
    "from sklearn.preprocessing import LabelEncoder\n",
    "from sklearn.metrics import accuracy_score\n",
    "from sklearn.preprocessing import OneHotEncoder\n",
    "from tensorflow.keras.models import Sequential\n",
    "from tensorflow.keras.layers import Dense"
   ]
  },
  {
   "cell_type": "code",
   "execution_count": 3,
   "metadata": {
    "id": "TBMckg5p-b9p"
   },
   "outputs": [],
   "source": [
    "path = '.'\n",
    "df = pd.read_excel(f\"{path}/Dataset/Data_Jurusan_Lengkap.xlsx\")\n",
    "\n",
    "tfidf_vectorizer = TfidfVectorizer()\n",
    "tfidf_matrix = tfidf_vectorizer.fit_transform(df['Deskripsi'])\n",
    "\n",
    "label_encoder = LabelEncoder()\n",
    "df['Jurusan_Encoded'] = label_encoder.fit_transform(df['Jurusan'])\n",
    "\n",
    "X_train, X_test, y_train, y_test = train_test_split(\n",
    "    tfidf_matrix, df['Jurusan_Encoded'], test_size=0.2, random_state=42\n",
    ")\n",
    "\n",
    "model = Sequential()\n",
    "model.add(Dense(64, input_dim=tfidf_matrix.shape[1], activation='relu'))\n",
    "model.add(Dense(32, activation='relu'))\n",
    "model.add(Dense(len(df['Jurusan'].unique()), activation='softmax'))\n",
    "\n",
    "\n",
    "model.compile(loss='sparse_categorical_crossentropy', optimizer='adam', metrics=['accuracy'])\n"
   ]
  },
  {
   "cell_type": "code",
   "execution_count": 4,
   "metadata": {
    "colab": {
     "base_uri": "https://localhost:8080/"
    },
    "id": "Qx5A1DCu-27L",
    "outputId": "03790bec-2365-4f6a-e297-51a6ebdf81dd"
   },
   "outputs": [
    {
     "name": "stdout",
     "output_type": "stream",
     "text": [
      "Epoch 1/100\n",
      "2/2 [==============================] - 1s 364ms/step - loss: 4.5863 - accuracy: 0.0000e+00 - val_loss: 4.5815 - val_accuracy: 0.0000e+00\n",
      "Epoch 2/100\n",
      "2/2 [==============================] - 0s 51ms/step - loss: 4.5749 - accuracy: 0.0484 - val_loss: 4.5837 - val_accuracy: 0.0000e+00\n",
      "Epoch 3/100\n",
      "2/2 [==============================] - 0s 47ms/step - loss: 4.5652 - accuracy: 0.1452 - val_loss: 4.5855 - val_accuracy: 0.0000e+00\n",
      "Epoch 4/100\n",
      "2/2 [==============================] - 0s 46ms/step - loss: 4.5559 - accuracy: 0.2097 - val_loss: 4.5871 - val_accuracy: 0.0000e+00\n",
      "Epoch 5/100\n",
      "2/2 [==============================] - 0s 46ms/step - loss: 4.5464 - accuracy: 0.3387 - val_loss: 4.5888 - val_accuracy: 0.0000e+00\n",
      "Epoch 6/100\n",
      "2/2 [==============================] - 0s 47ms/step - loss: 4.5364 - accuracy: 0.4032 - val_loss: 4.5907 - val_accuracy: 0.0000e+00\n",
      "Epoch 7/100\n",
      "2/2 [==============================] - 0s 48ms/step - loss: 4.5248 - accuracy: 0.4516 - val_loss: 4.5932 - val_accuracy: 0.0000e+00\n",
      "Epoch 8/100\n",
      "2/2 [==============================] - 0s 50ms/step - loss: 4.5125 - accuracy: 0.5161 - val_loss: 4.5958 - val_accuracy: 0.0000e+00\n",
      "Epoch 9/100\n",
      "2/2 [==============================] - 0s 48ms/step - loss: 4.4988 - accuracy: 0.5323 - val_loss: 4.5986 - val_accuracy: 0.0000e+00\n",
      "Epoch 10/100\n",
      "2/2 [==============================] - 0s 48ms/step - loss: 4.4837 - accuracy: 0.5484 - val_loss: 4.6017 - val_accuracy: 0.0000e+00\n",
      "Epoch 11/100\n",
      "2/2 [==============================] - 0s 49ms/step - loss: 4.4668 - accuracy: 0.5806 - val_loss: 4.6051 - val_accuracy: 0.0000e+00\n",
      "Epoch 12/100\n",
      "2/2 [==============================] - 0s 46ms/step - loss: 4.4488 - accuracy: 0.6290 - val_loss: 4.6090 - val_accuracy: 0.0000e+00\n",
      "Epoch 13/100\n",
      "2/2 [==============================] - 0s 46ms/step - loss: 4.4279 - accuracy: 0.6452 - val_loss: 4.6133 - val_accuracy: 0.0000e+00\n",
      "Epoch 14/100\n",
      "2/2 [==============================] - 0s 47ms/step - loss: 4.4064 - accuracy: 0.6452 - val_loss: 4.6184 - val_accuracy: 0.0000e+00\n",
      "Epoch 15/100\n",
      "2/2 [==============================] - 0s 45ms/step - loss: 4.3819 - accuracy: 0.6613 - val_loss: 4.6245 - val_accuracy: 0.0000e+00\n",
      "Epoch 16/100\n",
      "2/2 [==============================] - 0s 48ms/step - loss: 4.3560 - accuracy: 0.6613 - val_loss: 4.6314 - val_accuracy: 0.0000e+00\n",
      "Epoch 17/100\n",
      "2/2 [==============================] - 0s 46ms/step - loss: 4.3280 - accuracy: 0.6613 - val_loss: 4.6393 - val_accuracy: 0.0000e+00\n",
      "Epoch 18/100\n",
      "2/2 [==============================] - 0s 48ms/step - loss: 4.2957 - accuracy: 0.6774 - val_loss: 4.6485 - val_accuracy: 0.0000e+00\n",
      "Epoch 19/100\n",
      "2/2 [==============================] - 0s 49ms/step - loss: 4.2623 - accuracy: 0.6774 - val_loss: 4.6591 - val_accuracy: 0.0000e+00\n",
      "Epoch 20/100\n",
      "2/2 [==============================] - 0s 68ms/step - loss: 4.2251 - accuracy: 0.7097 - val_loss: 4.6709 - val_accuracy: 0.0000e+00\n",
      "Epoch 21/100\n",
      "2/2 [==============================] - 0s 62ms/step - loss: 4.1851 - accuracy: 0.6935 - val_loss: 4.6844 - val_accuracy: 0.0000e+00\n",
      "Epoch 22/100\n",
      "2/2 [==============================] - 0s 48ms/step - loss: 4.1418 - accuracy: 0.7097 - val_loss: 4.6997 - val_accuracy: 0.0000e+00\n",
      "Epoch 23/100\n",
      "2/2 [==============================] - 0s 47ms/step - loss: 4.0953 - accuracy: 0.6935 - val_loss: 4.7177 - val_accuracy: 0.0000e+00\n",
      "Epoch 24/100\n",
      "2/2 [==============================] - 0s 71ms/step - loss: 4.0449 - accuracy: 0.6935 - val_loss: 4.7381 - val_accuracy: 0.0000e+00\n",
      "Epoch 25/100\n",
      "2/2 [==============================] - 0s 70ms/step - loss: 3.9933 - accuracy: 0.6935 - val_loss: 4.7611 - val_accuracy: 0.0000e+00\n",
      "Epoch 26/100\n",
      "2/2 [==============================] - 0s 50ms/step - loss: 3.9363 - accuracy: 0.6935 - val_loss: 4.7867 - val_accuracy: 0.0000e+00\n",
      "Epoch 27/100\n",
      "2/2 [==============================] - 0s 50ms/step - loss: 3.8769 - accuracy: 0.6935 - val_loss: 4.8148 - val_accuracy: 0.0000e+00\n",
      "Epoch 28/100\n",
      "2/2 [==============================] - 0s 52ms/step - loss: 3.8138 - accuracy: 0.6935 - val_loss: 4.8461 - val_accuracy: 0.0000e+00\n",
      "Epoch 29/100\n",
      "2/2 [==============================] - 0s 79ms/step - loss: 3.7481 - accuracy: 0.6935 - val_loss: 4.8814 - val_accuracy: 0.0000e+00\n",
      "Epoch 30/100\n",
      "2/2 [==============================] - 0s 47ms/step - loss: 3.6787 - accuracy: 0.6935 - val_loss: 4.9203 - val_accuracy: 0.0000e+00\n",
      "Epoch 31/100\n",
      "2/2 [==============================] - 0s 48ms/step - loss: 3.6077 - accuracy: 0.6935 - val_loss: 4.9625 - val_accuracy: 0.0000e+00\n",
      "Epoch 32/100\n",
      "2/2 [==============================] - 0s 53ms/step - loss: 3.5338 - accuracy: 0.7097 - val_loss: 5.0081 - val_accuracy: 0.0000e+00\n",
      "Epoch 33/100\n",
      "2/2 [==============================] - 0s 52ms/step - loss: 3.4602 - accuracy: 0.7097 - val_loss: 5.0569 - val_accuracy: 0.0000e+00\n",
      "Epoch 34/100\n",
      "2/2 [==============================] - 0s 60ms/step - loss: 3.3812 - accuracy: 0.7258 - val_loss: 5.1091 - val_accuracy: 0.0000e+00\n",
      "Epoch 35/100\n",
      "2/2 [==============================] - 0s 84ms/step - loss: 3.3010 - accuracy: 0.7258 - val_loss: 5.1652 - val_accuracy: 0.0000e+00\n",
      "Epoch 36/100\n",
      "2/2 [==============================] - 0s 51ms/step - loss: 3.2205 - accuracy: 0.7742 - val_loss: 5.2246 - val_accuracy: 0.0000e+00\n",
      "Epoch 37/100\n",
      "2/2 [==============================] - 0s 47ms/step - loss: 3.1376 - accuracy: 0.7903 - val_loss: 5.2874 - val_accuracy: 0.0000e+00\n",
      "Epoch 38/100\n",
      "2/2 [==============================] - 0s 57ms/step - loss: 3.0544 - accuracy: 0.8065 - val_loss: 5.3531 - val_accuracy: 0.0000e+00\n",
      "Epoch 39/100\n",
      "2/2 [==============================] - 0s 56ms/step - loss: 2.9687 - accuracy: 0.8387 - val_loss: 5.4211 - val_accuracy: 0.0000e+00\n",
      "Epoch 40/100\n",
      "2/2 [==============================] - 0s 47ms/step - loss: 2.8847 - accuracy: 0.8387 - val_loss: 5.4924 - val_accuracy: 0.0000e+00\n",
      "Epoch 41/100\n",
      "2/2 [==============================] - 0s 50ms/step - loss: 2.7975 - accuracy: 0.8548 - val_loss: 5.5664 - val_accuracy: 0.0000e+00\n",
      "Epoch 42/100\n",
      "2/2 [==============================] - 0s 51ms/step - loss: 2.7115 - accuracy: 0.8710 - val_loss: 5.6419 - val_accuracy: 0.0000e+00\n",
      "Epoch 43/100\n",
      "2/2 [==============================] - 0s 51ms/step - loss: 2.6239 - accuracy: 0.8710 - val_loss: 5.7192 - val_accuracy: 0.0000e+00\n",
      "Epoch 44/100\n",
      "2/2 [==============================] - 0s 50ms/step - loss: 2.5371 - accuracy: 0.8871 - val_loss: 5.7988 - val_accuracy: 0.0000e+00\n",
      "Epoch 45/100\n",
      "2/2 [==============================] - 0s 61ms/step - loss: 2.4504 - accuracy: 0.8871 - val_loss: 5.8786 - val_accuracy: 0.0000e+00\n",
      "Epoch 46/100\n",
      "2/2 [==============================] - 0s 51ms/step - loss: 2.3634 - accuracy: 0.9032 - val_loss: 5.9562 - val_accuracy: 0.0000e+00\n",
      "Epoch 47/100\n",
      "2/2 [==============================] - 0s 51ms/step - loss: 2.2746 - accuracy: 0.9032 - val_loss: 6.0377 - val_accuracy: 0.0000e+00\n",
      "Epoch 48/100\n",
      "2/2 [==============================] - 0s 47ms/step - loss: 2.1891 - accuracy: 0.9032 - val_loss: 6.1205 - val_accuracy: 0.0000e+00\n",
      "Epoch 49/100\n",
      "2/2 [==============================] - 0s 48ms/step - loss: 2.1017 - accuracy: 0.9194 - val_loss: 6.2030 - val_accuracy: 0.0000e+00\n",
      "Epoch 50/100\n",
      "2/2 [==============================] - 0s 52ms/step - loss: 2.0155 - accuracy: 0.9355 - val_loss: 6.2846 - val_accuracy: 0.0000e+00\n",
      "Epoch 51/100\n",
      "2/2 [==============================] - 0s 54ms/step - loss: 1.9308 - accuracy: 0.9516 - val_loss: 6.3660 - val_accuracy: 0.0000e+00\n",
      "Epoch 52/100\n",
      "2/2 [==============================] - 0s 60ms/step - loss: 1.8456 - accuracy: 0.9677 - val_loss: 6.4473 - val_accuracy: 0.0000e+00\n",
      "Epoch 53/100\n",
      "2/2 [==============================] - 0s 54ms/step - loss: 1.7628 - accuracy: 0.9839 - val_loss: 6.5293 - val_accuracy: 0.0000e+00\n",
      "Epoch 54/100\n",
      "2/2 [==============================] - 0s 52ms/step - loss: 1.6817 - accuracy: 0.9839 - val_loss: 6.6117 - val_accuracy: 0.0000e+00\n",
      "Epoch 55/100\n",
      "2/2 [==============================] - 0s 47ms/step - loss: 1.6005 - accuracy: 0.9839 - val_loss: 6.6917 - val_accuracy: 0.0000e+00\n",
      "Epoch 56/100\n",
      "2/2 [==============================] - 0s 48ms/step - loss: 1.5208 - accuracy: 1.0000 - val_loss: 6.7711 - val_accuracy: 0.0000e+00\n",
      "Epoch 57/100\n",
      "2/2 [==============================] - 0s 46ms/step - loss: 1.4431 - accuracy: 1.0000 - val_loss: 6.8522 - val_accuracy: 0.0000e+00\n",
      "Epoch 58/100\n",
      "2/2 [==============================] - 0s 48ms/step - loss: 1.3681 - accuracy: 1.0000 - val_loss: 6.9337 - val_accuracy: 0.0000e+00\n",
      "Epoch 59/100\n",
      "2/2 [==============================] - 0s 47ms/step - loss: 1.2946 - accuracy: 1.0000 - val_loss: 7.0114 - val_accuracy: 0.0000e+00\n",
      "Epoch 60/100\n",
      "2/2 [==============================] - 0s 47ms/step - loss: 1.2230 - accuracy: 1.0000 - val_loss: 7.0886 - val_accuracy: 0.0000e+00\n",
      "Epoch 61/100\n",
      "2/2 [==============================] - 0s 48ms/step - loss: 1.1542 - accuracy: 1.0000 - val_loss: 7.1634 - val_accuracy: 0.0000e+00\n",
      "Epoch 62/100\n",
      "2/2 [==============================] - 0s 49ms/step - loss: 1.0881 - accuracy: 1.0000 - val_loss: 7.2393 - val_accuracy: 0.0000e+00\n",
      "Epoch 63/100\n",
      "2/2 [==============================] - 0s 54ms/step - loss: 1.0220 - accuracy: 1.0000 - val_loss: 7.3142 - val_accuracy: 0.0000e+00\n",
      "Epoch 64/100\n",
      "2/2 [==============================] - 0s 52ms/step - loss: 0.9598 - accuracy: 1.0000 - val_loss: 7.3860 - val_accuracy: 0.0000e+00\n",
      "Epoch 65/100\n",
      "2/2 [==============================] - 0s 48ms/step - loss: 0.9027 - accuracy: 1.0000 - val_loss: 7.4568 - val_accuracy: 0.0000e+00\n",
      "Epoch 66/100\n",
      "2/2 [==============================] - 0s 47ms/step - loss: 0.8475 - accuracy: 1.0000 - val_loss: 7.5268 - val_accuracy: 0.0000e+00\n",
      "Epoch 67/100\n",
      "2/2 [==============================] - 0s 47ms/step - loss: 0.7933 - accuracy: 1.0000 - val_loss: 7.5958 - val_accuracy: 0.0000e+00\n",
      "Epoch 68/100\n",
      "2/2 [==============================] - 0s 47ms/step - loss: 0.7421 - accuracy: 1.0000 - val_loss: 7.6633 - val_accuracy: 0.0000e+00\n",
      "Epoch 69/100\n",
      "2/2 [==============================] - 0s 48ms/step - loss: 0.6953 - accuracy: 1.0000 - val_loss: 7.7296 - val_accuracy: 0.0000e+00\n",
      "Epoch 70/100\n",
      "2/2 [==============================] - 0s 48ms/step - loss: 0.6494 - accuracy: 1.0000 - val_loss: 7.7943 - val_accuracy: 0.0000e+00\n",
      "Epoch 71/100\n",
      "2/2 [==============================] - 0s 47ms/step - loss: 0.6056 - accuracy: 1.0000 - val_loss: 7.8573 - val_accuracy: 0.0000e+00\n",
      "Epoch 72/100\n",
      "2/2 [==============================] - 0s 49ms/step - loss: 0.5650 - accuracy: 1.0000 - val_loss: 7.9204 - val_accuracy: 0.0000e+00\n",
      "Epoch 73/100\n",
      "2/2 [==============================] - 0s 53ms/step - loss: 0.5292 - accuracy: 1.0000 - val_loss: 7.9806 - val_accuracy: 0.0000e+00\n",
      "Epoch 74/100\n",
      "2/2 [==============================] - 0s 57ms/step - loss: 0.4936 - accuracy: 1.0000 - val_loss: 8.0401 - val_accuracy: 0.0000e+00\n",
      "Epoch 75/100\n",
      "2/2 [==============================] - 0s 53ms/step - loss: 0.4606 - accuracy: 1.0000 - val_loss: 8.0975 - val_accuracy: 0.0000e+00\n",
      "Epoch 76/100\n",
      "2/2 [==============================] - 0s 51ms/step - loss: 0.4288 - accuracy: 1.0000 - val_loss: 8.1530 - val_accuracy: 0.0000e+00\n",
      "Epoch 77/100\n",
      "2/2 [==============================] - 0s 51ms/step - loss: 0.4020 - accuracy: 1.0000 - val_loss: 8.2083 - val_accuracy: 0.0000e+00\n",
      "Epoch 78/100\n",
      "2/2 [==============================] - 0s 68ms/step - loss: 0.3749 - accuracy: 1.0000 - val_loss: 8.2630 - val_accuracy: 0.0000e+00\n",
      "Epoch 79/100\n",
      "2/2 [==============================] - 0s 60ms/step - loss: 0.3510 - accuracy: 1.0000 - val_loss: 8.3157 - val_accuracy: 0.0000e+00\n",
      "Epoch 80/100\n",
      "2/2 [==============================] - 0s 57ms/step - loss: 0.3285 - accuracy: 1.0000 - val_loss: 8.3648 - val_accuracy: 0.0000e+00\n",
      "Epoch 81/100\n",
      "2/2 [==============================] - 0s 43ms/step - loss: 0.3075 - accuracy: 1.0000 - val_loss: 8.4124 - val_accuracy: 0.0000e+00\n",
      "Epoch 82/100\n",
      "2/2 [==============================] - 0s 54ms/step - loss: 0.2884 - accuracy: 1.0000 - val_loss: 8.4585 - val_accuracy: 0.0000e+00\n",
      "Epoch 83/100\n",
      "2/2 [==============================] - 0s 55ms/step - loss: 0.2701 - accuracy: 1.0000 - val_loss: 8.5022 - val_accuracy: 0.0000e+00\n",
      "Epoch 84/100\n",
      "2/2 [==============================] - 0s 55ms/step - loss: 0.2546 - accuracy: 1.0000 - val_loss: 8.5450 - val_accuracy: 0.0000e+00\n",
      "Epoch 85/100\n",
      "2/2 [==============================] - 0s 45ms/step - loss: 0.2391 - accuracy: 1.0000 - val_loss: 8.5869 - val_accuracy: 0.0000e+00\n",
      "Epoch 86/100\n",
      "2/2 [==============================] - 0s 44ms/step - loss: 0.2250 - accuracy: 1.0000 - val_loss: 8.6270 - val_accuracy: 0.0000e+00\n",
      "Epoch 87/100\n",
      "2/2 [==============================] - 0s 51ms/step - loss: 0.2126 - accuracy: 1.0000 - val_loss: 8.6627 - val_accuracy: 0.0000e+00\n",
      "Epoch 88/100\n",
      "2/2 [==============================] - 0s 51ms/step - loss: 0.2008 - accuracy: 1.0000 - val_loss: 8.6974 - val_accuracy: 0.0000e+00\n",
      "Epoch 89/100\n",
      "2/2 [==============================] - 0s 55ms/step - loss: 0.1896 - accuracy: 1.0000 - val_loss: 8.7303 - val_accuracy: 0.0000e+00\n",
      "Epoch 90/100\n",
      "2/2 [==============================] - 0s 65ms/step - loss: 0.1797 - accuracy: 1.0000 - val_loss: 8.7632 - val_accuracy: 0.0000e+00\n",
      "Epoch 91/100\n",
      "2/2 [==============================] - 0s 54ms/step - loss: 0.1707 - accuracy: 1.0000 - val_loss: 8.7955 - val_accuracy: 0.0000e+00\n",
      "Epoch 92/100\n",
      "2/2 [==============================] - 0s 53ms/step - loss: 0.1618 - accuracy: 1.0000 - val_loss: 8.8258 - val_accuracy: 0.0000e+00\n",
      "Epoch 93/100\n",
      "2/2 [==============================] - 0s 51ms/step - loss: 0.1541 - accuracy: 1.0000 - val_loss: 8.8540 - val_accuracy: 0.0000e+00\n",
      "Epoch 94/100\n",
      "2/2 [==============================] - 0s 60ms/step - loss: 0.1469 - accuracy: 1.0000 - val_loss: 8.8823 - val_accuracy: 0.0000e+00\n",
      "Epoch 95/100\n",
      "2/2 [==============================] - 0s 50ms/step - loss: 0.1401 - accuracy: 1.0000 - val_loss: 8.9101 - val_accuracy: 0.0000e+00\n",
      "Epoch 96/100\n",
      "2/2 [==============================] - 0s 48ms/step - loss: 0.1336 - accuracy: 1.0000 - val_loss: 8.9361 - val_accuracy: 0.0000e+00\n",
      "Epoch 97/100\n",
      "2/2 [==============================] - 0s 48ms/step - loss: 0.1278 - accuracy: 1.0000 - val_loss: 8.9600 - val_accuracy: 0.0000e+00\n",
      "Epoch 98/100\n",
      "2/2 [==============================] - 0s 52ms/step - loss: 0.1223 - accuracy: 1.0000 - val_loss: 8.9834 - val_accuracy: 0.0000e+00\n",
      "Epoch 99/100\n",
      "2/2 [==============================] - 0s 60ms/step - loss: 0.1172 - accuracy: 1.0000 - val_loss: 9.0075 - val_accuracy: 0.0000e+00\n",
      "Epoch 100/100\n",
      "2/2 [==============================] - 0s 52ms/step - loss: 0.1123 - accuracy: 1.0000 - val_loss: 9.0288 - val_accuracy: 0.0000e+00\n"
     ]
    },
    {
     "data": {
      "text/plain": [
       "<keras.callbacks.History at 0x263c2aeba00>"
      ]
     },
     "execution_count": 4,
     "metadata": {},
     "output_type": "execute_result"
    }
   ],
   "source": [
    "model.fit(X_train.toarray(), y_train, epochs=100, batch_size=32, validation_split=0.2)\n"
   ]
  },
  {
   "cell_type": "code",
   "execution_count": 9,
   "metadata": {
    "colab": {
     "base_uri": "https://localhost:8080/"
    },
    "id": "YsEs6fgU-ixt",
    "outputId": "8364476d-c414-4932-f8e1-ba4907812e2d"
   },
   "outputs": [
    {
     "name": "stdout",
     "output_type": "stream",
     "text": [
      "1/1 [==============================] - 0s 35ms/step\n",
      "Accuracy: 0.00\n",
      "1/1 [==============================] - 0s 34ms/step\n",
      "Predicted Jurusan: Perikanan\n"
     ]
    }
   ],
   "source": [
    "y_pred = np.argmax(model.predict(X_test.toarray()), axis=1)\n",
    "accuracy = accuracy_score(y_test, y_pred)\n",
    "print(\"Accuracy: {:.2f}\".format(accuracy))\n",
    "\n",
    "user_input = \"Saya hitler \"\n",
    "user_input_vector = tfidf_vectorizer.transform([user_input])\n",
    "predicted_probabilities = model.predict(user_input_vector.toarray())\n",
    "predicted_class = np.argmax(predicted_probabilities)\n",
    "\n",
    "predicted_jurusan = label_encoder.inverse_transform([predicted_class])[0]\n",
    "print(\"Predicted Jurusan:\", predicted_jurusan)"
   ]
  },
  {
   "cell_type": "code",
   "execution_count": 7,
   "metadata": {},
   "outputs": [
    {
     "name": "stdout",
     "output_type": "stream",
     "text": [
      "INFO:tensorflow:Assets written to: model_1\\assets\n"
     ]
    }
   ],
   "source": [
    "model.save(\"model_1\")"
   ]
  },
  {
   "cell_type": "code",
   "execution_count": null,
   "metadata": {},
   "outputs": [],
   "source": []
  }
 ],
 "metadata": {
  "colab": {
   "provenance": []
  },
  "kernelspec": {
   "display_name": "Python 3 (ipykernel)",
   "language": "python",
   "name": "python3"
  },
  "language_info": {
   "codemirror_mode": {
    "name": "ipython",
    "version": 3
   },
   "file_extension": ".py",
   "mimetype": "text/x-python",
   "name": "python",
   "nbconvert_exporter": "python",
   "pygments_lexer": "ipython3",
   "version": "3.10.13"
  }
 },
 "nbformat": 4,
 "nbformat_minor": 4
}
